{
 "cells": [
  {
   "cell_type": "markdown",
   "metadata": {},
   "source": [
    "# **Task 1 | Mask Recognition**"
   ]
  },
  {
   "cell_type": "markdown",
   "metadata": {},
   "source": [
    "***Goal :*** *Detect human faces on videos and check whether or not they have a mask on*. "
   ]
  },
  {
   "cell_type": "markdown",
   "metadata": {},
   "source": [
    "In this notebook we implement two models different model to perform the task :\n",
    "- [YOLOv5](https://github.com/ultralytics/yolov5)"
   ]
  },
  {
   "cell_type": "markdown",
   "metadata": {},
   "source": [
    "___\n",
    "___"
   ]
  },
  {
   "cell_type": "markdown",
   "metadata": {},
   "source": [
    "## **1. INITIALIZATION**"
   ]
  },
  {
   "cell_type": "markdown",
   "metadata": {},
   "source": [
    "### *1.1 IMPORTS*"
   ]
  },
  {
   "cell_type": "code",
   "execution_count": 1,
   "metadata": {},
   "outputs": [],
   "source": [
    "from IPython.display import display, Image, clear_output\n",
    "from math import nan\n",
    "from sklearn.metrics import confusion_matrix, ConfusionMatrixDisplay\n",
    "from tqdm import tqdm\n",
    "from xml.dom import minidom\n",
    "\n",
    "import cv2\n",
    "import matplotlib.pyplot as plt\n",
    "import numpy as np\n",
    "import os\n",
    "import pandas as pd\n",
    "import random as rd\n",
    "import time\n",
    "\n",
    "from torch.utils.data import Dataset, DataLoader\n",
    "from torchvision import models, transforms\n",
    "\n",
    "import torch\n",
    "import torch.nn as nn"
   ]
  },
  {
   "cell_type": "code",
   "execution_count": 2,
   "metadata": {},
   "outputs": [
    {
     "data": {
      "text/html": [
       "<details>\n",
       "<summary>Click to view session information</summary>\n",
       "<pre>\n",
       "-----\n",
       "cv2                 4.5.4\n",
       "matplotlib          3.4.3\n",
       "numpy               1.21.3\n",
       "pandas              1.3.4\n",
       "session_info        1.0.0\n",
       "sklearn             1.0.1\n",
       "torch               1.10.0+cu102\n",
       "torchvision         0.11.1+cu102\n",
       "tqdm                4.62.3\n",
       "-----\n",
       "</pre>\n",
       "<details>\n",
       "<summary>Click to view modules imported as dependencies</summary>\n",
       "<pre>\n",
       "PIL                         8.4.0\n",
       "astunparse                  1.6.3\n",
       "backcall                    0.2.0\n",
       "beta_ufunc                  NA\n",
       "binom_ufunc                 NA\n",
       "cffi                        1.15.0\n",
       "colorama                    0.4.4\n",
       "cycler                      0.10.0\n",
       "cython_runtime              NA\n",
       "dateutil                    2.8.2\n",
       "debugpy                     1.4.3\n",
       "decorator                   5.1.0\n",
       "defusedxml                  0.7.1\n",
       "entrypoints                 0.3\n",
       "google                      NA\n",
       "ipykernel                   6.4.1\n",
       "ipython_genutils            0.2.0\n",
       "jedi                        0.18.0\n",
       "joblib                      1.1.0\n",
       "kiwisolver                  1.3.2\n",
       "matplotlib_inline           NA\n",
       "mpl_toolkits                NA\n",
       "nbinom_ufunc                NA\n",
       "nt                          NA\n",
       "ntsecuritycon               NA\n",
       "parso                       0.8.2\n",
       "pickleshare                 0.7.5\n",
       "pkg_resources               NA\n",
       "prompt_toolkit              3.0.20\n",
       "pydev_ipython               NA\n",
       "pydevconsole                NA\n",
       "pydevd                      2.4.1\n",
       "pydevd_concurrency_analyser NA\n",
       "pydevd_file_utils           NA\n",
       "pydevd_plugins              NA\n",
       "pydevd_tracing              NA\n",
       "pyexpat                     NA\n",
       "pygments                    2.10.0\n",
       "pyparsing                   3.0.6\n",
       "pythoncom                   NA\n",
       "pytz                        2021.3\n",
       "pywin32_bootstrap           NA\n",
       "pywin32_system32            NA\n",
       "pywintypes                  NA\n",
       "scipy                       1.7.2\n",
       "six                         1.16.0\n",
       "storemagic                  NA\n",
       "threadpoolctl               3.0.0\n",
       "tornado                     6.1\n",
       "traitlets                   5.1.0\n",
       "typing_extensions           NA\n",
       "wcwidth                     0.2.5\n",
       "win32api                    NA\n",
       "win32com                    NA\n",
       "win32security               NA\n",
       "zmq                         22.3.0\n",
       "</pre>\n",
       "</details> <!-- seems like this ends pre, so might as well be explicit -->\n",
       "<pre>\n",
       "-----\n",
       "IPython             7.29.0\n",
       "jupyter_client      7.0.2\n",
       "jupyter_core        4.7.1\n",
       "notebook            6.4.3\n",
       "-----\n",
       "Python 3.9.6 (tags/v3.9.6:db3ff76, Jun 28 2021, 15:26:21) [MSC v.1929 64 bit (AMD64)]\n",
       "Windows-10-10.0.22000-SP0\n",
       "-----\n",
       "Session information updated at 2021-11-28 16:41\n",
       "</pre>\n",
       "</details>"
      ],
      "text/plain": [
       "<IPython.core.display.HTML object>"
      ]
     },
     "execution_count": 2,
     "metadata": {},
     "output_type": "execute_result"
    }
   ],
   "source": [
    "# to fill the `requirement.txt` file we use the following line of code:\n",
    "import session_info\n",
    "session_info.show()"
   ]
  },
  {
   "cell_type": "code",
   "execution_count": 3,
   "metadata": {},
   "outputs": [
    {
     "name": "stdout",
     "output_type": "stream",
     "text": [
      "device: cuda\n"
     ]
    }
   ],
   "source": [
    "# setting device on GPU if available, else CPU\n",
    "device = torch.device('cuda' if torch.cuda.is_available() else 'cpu')\n",
    "print(\"device: {}\".format(device))"
   ]
  },
  {
   "cell_type": "markdown",
   "metadata": {},
   "source": [
    "### *1.2. DATA LOADING*"
   ]
  },
  {
   "cell_type": "code",
   "execution_count": 4,
   "metadata": {},
   "outputs": [],
   "source": [
    "data_root_dir = \"data/FaceMaskDetection/\"           # path to the directory with the relevant data\n",
    "annotations_dir = data_root_dir + \"annotations/\"    # path to the directory with the .xml annotations files\n",
    "images_dir = data_root_dir + \"images/\"              # path to the directory with the images\n",
    "\n",
    "annotation_files = os.listdir(annotations_dir)      # list of the files in the annotation directory\n",
    "annotation_files.sort()\n",
    "\n",
    "image_files = os.listdir(images_dir)                # list of files in the image directory\n",
    "image_files.sort()"
   ]
  },
  {
   "cell_type": "code",
   "execution_count": 5,
   "metadata": {},
   "outputs": [],
   "source": [
    "# 1st check-point: same number of files\n",
    "assert (len(annotation_files) == len(image_files))\n",
    "\n",
    "# 2nd check-point: same file ids in the same order\n",
    "assert ([annotation_file[15:-4] for annotation_file in annotation_files] == [image_file[15:-4] for image_file in image_files])"
   ]
  },
  {
   "cell_type": "code",
   "execution_count": 8,
   "metadata": {},
   "outputs": [],
   "source": [
    "# to have all the annotations files in the same pandas dataframe (easier to manipulate)\n",
    "def get_annotations(data_root_dir, annotations_dir, annotation_files):\n",
    "\n",
    "    # if the dataframe has already been computed and saved as a .csv file\n",
    "    if \"annotations.csv\" in os.listdir(data_root_dir):\n",
    "        annotations = pd.read_csv(data_root_dir + \"annotations.csv\", index_col=None)\n",
    "\n",
    "    # else, we compute and save it\n",
    "    else:\n",
    "\n",
    "        data = []\n",
    "        mask_label = {\"without_mask\": 0, \"mask_weared_incorrect\": 1, \"with_mask\": 2}\n",
    "\n",
    "        for i in tqdm(range(len(annotation_files))):\n",
    "            \n",
    "            file = annotation_files[i]\n",
    "            ann = minidom.parse(annotations_dir + file)\n",
    "\n",
    "            image_id = int(ann.getElementsByTagName(\"filename\")[0].firstChild.data[12:-4])\n",
    "            image_height = int(ann.getElementsByTagName(\"height\")[0].firstChild.data)\n",
    "            image_width = int(ann.getElementsByTagName(\"width\")[0].firstChild.data)\n",
    "        \n",
    "            for box_id,object in enumerate(ann.getElementsByTagName(\"object\")):\n",
    "\n",
    "                box_label = mask_label[object.getElementsByTagName(\"name\")[0].firstChild.data]\n",
    "                xmin = int(object.getElementsByTagName(\"xmin\")[0].firstChild.data)\n",
    "                xmax = int(object.getElementsByTagName(\"xmax\")[0].firstChild.data)\n",
    "                ymin = int(object.getElementsByTagName(\"ymin\")[0].firstChild.data)\n",
    "                ymax = int(object.getElementsByTagName(\"ymax\")[0].firstChild.data)\n",
    "\n",
    "                data.append((image_id, image_height, image_width, box_id, box_label, xmin, xmax, ymin, ymax))\n",
    "        \n",
    "        columns = [\"image_id\", \"image_height\", \"image_width\", \"box_id\", \"box_label\", \"xmin\", \"xmax\", \"ymin\", \"ymax\"]\n",
    "        annotations = pd.DataFrame(data=data, columns=columns, index=None)\n",
    "        annotations.to_csv(data_root_dir + \"annotations.csv\", index=None)\n",
    "\n",
    "    return annotations"
   ]
  },
  {
   "cell_type": "code",
   "execution_count": 11,
   "metadata": {},
   "outputs": [
    {
     "data": {
      "text/html": [
       "<div>\n",
       "<style scoped>\n",
       "    .dataframe tbody tr th:only-of-type {\n",
       "        vertical-align: middle;\n",
       "    }\n",
       "\n",
       "    .dataframe tbody tr th {\n",
       "        vertical-align: top;\n",
       "    }\n",
       "\n",
       "    .dataframe thead th {\n",
       "        text-align: right;\n",
       "    }\n",
       "</style>\n",
       "<table border=\"1\" class=\"dataframe\">\n",
       "  <thead>\n",
       "    <tr style=\"text-align: right;\">\n",
       "      <th></th>\n",
       "      <th>image_id</th>\n",
       "      <th>image_height</th>\n",
       "      <th>image_width</th>\n",
       "      <th>box_id</th>\n",
       "      <th>box_label</th>\n",
       "      <th>xmin</th>\n",
       "      <th>xmax</th>\n",
       "      <th>ymin</th>\n",
       "      <th>ymax</th>\n",
       "    </tr>\n",
       "  </thead>\n",
       "  <tbody>\n",
       "    <tr>\n",
       "      <th>0</th>\n",
       "      <td>0</td>\n",
       "      <td>366</td>\n",
       "      <td>512</td>\n",
       "      <td>0</td>\n",
       "      <td>0</td>\n",
       "      <td>79</td>\n",
       "      <td>109</td>\n",
       "      <td>105</td>\n",
       "      <td>142</td>\n",
       "    </tr>\n",
       "    <tr>\n",
       "      <th>1</th>\n",
       "      <td>0</td>\n",
       "      <td>366</td>\n",
       "      <td>512</td>\n",
       "      <td>1</td>\n",
       "      <td>2</td>\n",
       "      <td>185</td>\n",
       "      <td>226</td>\n",
       "      <td>100</td>\n",
       "      <td>144</td>\n",
       "    </tr>\n",
       "    <tr>\n",
       "      <th>2</th>\n",
       "      <td>0</td>\n",
       "      <td>366</td>\n",
       "      <td>512</td>\n",
       "      <td>2</td>\n",
       "      <td>0</td>\n",
       "      <td>325</td>\n",
       "      <td>360</td>\n",
       "      <td>90</td>\n",
       "      <td>141</td>\n",
       "    </tr>\n",
       "    <tr>\n",
       "      <th>3</th>\n",
       "      <td>1</td>\n",
       "      <td>156</td>\n",
       "      <td>400</td>\n",
       "      <td>0</td>\n",
       "      <td>2</td>\n",
       "      <td>321</td>\n",
       "      <td>354</td>\n",
       "      <td>34</td>\n",
       "      <td>69</td>\n",
       "    </tr>\n",
       "    <tr>\n",
       "      <th>4</th>\n",
       "      <td>1</td>\n",
       "      <td>156</td>\n",
       "      <td>400</td>\n",
       "      <td>1</td>\n",
       "      <td>2</td>\n",
       "      <td>224</td>\n",
       "      <td>261</td>\n",
       "      <td>38</td>\n",
       "      <td>73</td>\n",
       "    </tr>\n",
       "    <tr>\n",
       "      <th>...</th>\n",
       "      <td>...</td>\n",
       "      <td>...</td>\n",
       "      <td>...</td>\n",
       "      <td>...</td>\n",
       "      <td>...</td>\n",
       "      <td>...</td>\n",
       "      <td>...</td>\n",
       "      <td>...</td>\n",
       "      <td>...</td>\n",
       "    </tr>\n",
       "    <tr>\n",
       "      <th>4067</th>\n",
       "      <td>98</td>\n",
       "      <td>267</td>\n",
       "      <td>400</td>\n",
       "      <td>2</td>\n",
       "      <td>2</td>\n",
       "      <td>263</td>\n",
       "      <td>287</td>\n",
       "      <td>62</td>\n",
       "      <td>85</td>\n",
       "    </tr>\n",
       "    <tr>\n",
       "      <th>4068</th>\n",
       "      <td>98</td>\n",
       "      <td>267</td>\n",
       "      <td>400</td>\n",
       "      <td>3</td>\n",
       "      <td>2</td>\n",
       "      <td>344</td>\n",
       "      <td>377</td>\n",
       "      <td>80</td>\n",
       "      <td>106</td>\n",
       "    </tr>\n",
       "    <tr>\n",
       "      <th>4069</th>\n",
       "      <td>99</td>\n",
       "      <td>267</td>\n",
       "      <td>400</td>\n",
       "      <td>0</td>\n",
       "      <td>1</td>\n",
       "      <td>181</td>\n",
       "      <td>273</td>\n",
       "      <td>54</td>\n",
       "      <td>162</td>\n",
       "    </tr>\n",
       "    <tr>\n",
       "      <th>4070</th>\n",
       "      <td>99</td>\n",
       "      <td>267</td>\n",
       "      <td>400</td>\n",
       "      <td>1</td>\n",
       "      <td>2</td>\n",
       "      <td>99</td>\n",
       "      <td>176</td>\n",
       "      <td>87</td>\n",
       "      <td>165</td>\n",
       "    </tr>\n",
       "    <tr>\n",
       "      <th>4071</th>\n",
       "      <td>99</td>\n",
       "      <td>267</td>\n",
       "      <td>400</td>\n",
       "      <td>2</td>\n",
       "      <td>2</td>\n",
       "      <td>289</td>\n",
       "      <td>355</td>\n",
       "      <td>99</td>\n",
       "      <td>233</td>\n",
       "    </tr>\n",
       "  </tbody>\n",
       "</table>\n",
       "<p>4072 rows × 9 columns</p>\n",
       "</div>"
      ],
      "text/plain": [
       "      image_id  image_height  image_width  box_id  box_label  xmin  xmax  \\\n",
       "0            0           366          512       0          0    79   109   \n",
       "1            0           366          512       1          2   185   226   \n",
       "2            0           366          512       2          0   325   360   \n",
       "3            1           156          400       0          2   321   354   \n",
       "4            1           156          400       1          2   224   261   \n",
       "...        ...           ...          ...     ...        ...   ...   ...   \n",
       "4067        98           267          400       2          2   263   287   \n",
       "4068        98           267          400       3          2   344   377   \n",
       "4069        99           267          400       0          1   181   273   \n",
       "4070        99           267          400       1          2    99   176   \n",
       "4071        99           267          400       2          2   289   355   \n",
       "\n",
       "      ymin  ymax  \n",
       "0      105   142  \n",
       "1      100   144  \n",
       "2       90   141  \n",
       "3       34    69  \n",
       "4       38    73  \n",
       "...    ...   ...  \n",
       "4067    62    85  \n",
       "4068    80   106  \n",
       "4069    54   162  \n",
       "4070    87   165  \n",
       "4071    99   233  \n",
       "\n",
       "[4072 rows x 9 columns]"
      ]
     },
     "metadata": {},
     "output_type": "display_data"
    }
   ],
   "source": [
    "annotations = get_annotations(data_root_dir, annotations_dir, annotation_files)\n",
    "display(annotations)"
   ]
  },
  {
   "cell_type": "markdown",
   "metadata": {},
   "source": [
    "To [train the YOLO model](https://github.com/ultralytics/yolov5/wiki/Train-Custom-Data) we need to format our data as it follows:"
   ]
  },
  {
   "cell_type": "code",
   "execution_count": 8,
   "metadata": {},
   "outputs": [],
   "source": [
    "def get_yolo_labels(annotations, data_root_dir):\n",
    "\n",
    "    if \"labels_yolo\" not in os.listdir(data_root_dir):\n",
    "        os.mkdir(data_root_dir + \"labels_yolo\")\n",
    "    \n",
    "    annotations_ids = list(set(annotations[\"image_id\"]))\n",
    "    annotations_ids.sort()\n",
    "\n",
    "    for i in tqdm(range(1,len(annotations_ids))):\n",
    "\n",
    "        image_id = annotations_ids[i]\n",
    "        indexes = list(annotations[annotations[\"image_id\"] == image_id].index)\n",
    "\n",
    "        label_file_lines = []\n",
    "\n",
    "        for index in indexes:\n",
    "\n",
    "            box_label = annotations.iloc[index][\"box_label\"]\n",
    "\n",
    "            image_height = annotations[\"image_height\"].iloc[index]\n",
    "            image_width = annotations[\"image_width\"].iloc[index]\n",
    "            xmin = annotations[\"xmin\"].iloc[index]\n",
    "            xmax = annotations[\"xmax\"].iloc[index]\n",
    "            ymin = annotations[\"ymin\"].iloc[index]\n",
    "            ymax = annotations[\"ymax\"].iloc[index]\n",
    "\n",
    "            box_xcenter = ((xmin + xmax)/2)/image_width\n",
    "            box_ycenter = ((ymin + ymax)/2)/image_height\n",
    "            box_width = (xmax - xmin)/image_width\n",
    "            box_height = (ymax - ymin)/image_height\n",
    "\n",
    "            label_file_lines.append(' '.join([str(box_label), str(box_xcenter), str(box_ycenter), str(box_width), str(box_height)]))\n",
    "        \n",
    "        with open(data_root_dir + \"labels_yolo/maksssksksss{}.txt\".format(image_id), 'w') as f:\n",
    "            f.writelines('\\n'.join(label_file_lines))\n",
    "            f.close()\n"
   ]
  },
  {
   "cell_type": "code",
   "execution_count": 9,
   "metadata": {},
   "outputs": [
    {
     "name": "stderr",
     "output_type": "stream",
     "text": [
      "100%|██████████| 852/852 [00:01<00:00, 785.66it/s]\n"
     ]
    }
   ],
   "source": [
    "labels_yolo_dir = data_root_dir + \"labels_yolo/\"\n",
    "get_yolo_labels(annotations, data_root_dir)\n",
    "\n",
    "labels_yolo_files = os.listdir(labels_yolo_dir)\n",
    "labels_yolo_files.sort()"
   ]
  },
  {
   "cell_type": "code",
   "execution_count": 10,
   "metadata": {},
   "outputs": [],
   "source": [
    "# 3rd check-point: same number of files\n",
    "assert (len(annotation_files) == len(labels_yolo_files))\n",
    "\n",
    "# 4th check-point: same file ids in the same order\n",
    "assert ([annotation_file[15:-4] for annotation_file in annotation_files] == [labels_yolo_file[15:-4] for labels_yolo_file in labels_yolo_files])"
   ]
  },
  {
   "cell_type": "markdown",
   "metadata": {},
   "source": [
    "___"
   ]
  },
  {
   "cell_type": "markdown",
   "metadata": {},
   "source": [
    "## **2. THE MODELS**"
   ]
  },
  {
   "cell_type": "markdown",
   "metadata": {},
   "source": [
    "### *2.1. YOLOv5*"
   ]
  },
  {
   "cell_type": "markdown",
   "metadata": {},
   "source": [
    "#### DEFINING THE MODEL"
   ]
  },
  {
   "cell_type": "markdown",
   "metadata": {},
   "source": [
    "To use YOLOv5 we need to clone it from the [official GitHub repository](https://github.com/ultralytics/yolov5)."
   ]
  },
  {
   "cell_type": "code",
   "execution_count": 21,
   "metadata": {},
   "outputs": [
    {
     "name": "stdout",
     "output_type": "stream",
     "text": [
      "d:\\AIVC\\INF634 - COMPUTER VISION\\mask-detection-social-distancing\\yolov5\n"
     ]
    },
    {
     "name": "stderr",
     "output_type": "stream",
     "text": [
      "fatal: destination path 'yolov5' already exists and is not an empty directory.\n"
     ]
    },
    {
     "name": "stdout",
     "output_type": "stream",
     "text": [
      "Requirement already satisfied: matplotlib>=3.2.2 in c:\\users\\antho\\appdata\\local\\programs\\python\\python39\\lib\\site-packages (from -r requirements.txt (line 4)) (3.4.3)\n",
      "Requirement already satisfied: numpy>=1.18.5 in c:\\users\\antho\\appdata\\local\\programs\\python\\python39\\lib\\site-packages (from -r requirements.txt (line 5)) (1.21.3)\n",
      "Requirement already satisfied: opencv-python>=4.1.2 in c:\\users\\antho\\appdata\\local\\programs\\python\\python39\\lib\\site-packages (from -r requirements.txt (line 6)) (4.5.4.60)\n",
      "Requirement already satisfied: Pillow>=7.1.2 in c:\\users\\antho\\appdata\\local\\programs\\python\\python39\\lib\\site-packages (from -r requirements.txt (line 7)) (8.4.0)\n",
      "Requirement already satisfied: PyYAML>=5.3.1 in c:\\users\\antho\\appdata\\local\\programs\\python\\python39\\lib\\site-packages (from -r requirements.txt (line 8)) (6.0)\n",
      "Requirement already satisfied: requests>=2.23.0 in c:\\users\\antho\\appdata\\local\\programs\\python\\python39\\lib\\site-packages (from -r requirements.txt (line 9)) (2.26.0)\n",
      "Requirement already satisfied: scipy>=1.4.1 in c:\\users\\antho\\appdata\\local\\programs\\python\\python39\\lib\\site-packages (from -r requirements.txt (line 10)) (1.7.2)\n",
      "Requirement already satisfied: torch>=1.7.0 in c:\\users\\antho\\appdata\\local\\programs\\python\\python39\\lib\\site-packages (from -r requirements.txt (line 11)) (1.10.0+cu102)\n",
      "Requirement already satisfied: torchvision>=0.8.1 in c:\\users\\antho\\appdata\\local\\programs\\python\\python39\\lib\\site-packages (from -r requirements.txt (line 12)) (0.11.1+cu102)\n",
      "Requirement already satisfied: tqdm>=4.41.0 in c:\\users\\antho\\appdata\\local\\programs\\python\\python39\\lib\\site-packages (from -r requirements.txt (line 13)) (4.62.3)\n",
      "Requirement already satisfied: tensorboard>=2.4.1 in c:\\users\\antho\\appdata\\local\\programs\\python\\python39\\lib\\site-packages (from -r requirements.txt (line 16)) (2.7.0)\n",
      "Requirement already satisfied: pandas>=1.1.4 in c:\\users\\antho\\appdata\\local\\programs\\python\\python39\\lib\\site-packages (from -r requirements.txt (line 20)) (1.3.4)\n",
      "Requirement already satisfied: seaborn>=0.11.0 in c:\\users\\antho\\appdata\\local\\programs\\python\\python39\\lib\\site-packages (from -r requirements.txt (line 21)) (0.11.2)\n",
      "Requirement already satisfied: thop in c:\\users\\antho\\appdata\\local\\programs\\python\\python39\\lib\\site-packages (from -r requirements.txt (line 36)) (0.0.31.post2005241907)\n",
      "Requirement already satisfied: cycler>=0.10 in c:\\users\\antho\\appdata\\local\\programs\\python\\python39\\lib\\site-packages (from matplotlib>=3.2.2->-r requirements.txt (line 4)) (0.11.0)\n",
      "Requirement already satisfied: pyparsing>=2.2.1 in c:\\users\\antho\\appdata\\local\\programs\\python\\python39\\lib\\site-packages (from matplotlib>=3.2.2->-r requirements.txt (line 4)) (3.0.6)\n",
      "Requirement already satisfied: python-dateutil>=2.7 in c:\\users\\antho\\appdata\\local\\programs\\python\\python39\\lib\\site-packages (from matplotlib>=3.2.2->-r requirements.txt (line 4)) (2.8.2)\n",
      "Requirement already satisfied: kiwisolver>=1.0.1 in c:\\users\\antho\\appdata\\local\\programs\\python\\python39\\lib\\site-packages (from matplotlib>=3.2.2->-r requirements.txt (line 4)) (1.3.2)\n",
      "Requirement already satisfied: urllib3<1.27,>=1.21.1 in c:\\users\\antho\\appdata\\local\\programs\\python\\python39\\lib\\site-packages (from requests>=2.23.0->-r requirements.txt (line 9)) (1.26.7)\n",
      "Requirement already satisfied: idna<4,>=2.5 in c:\\users\\antho\\appdata\\local\\programs\\python\\python39\\lib\\site-packages (from requests>=2.23.0->-r requirements.txt (line 9)) (3.3)\n",
      "Requirement already satisfied: charset-normalizer~=2.0.0 in c:\\users\\antho\\appdata\\local\\programs\\python\\python39\\lib\\site-packages (from requests>=2.23.0->-r requirements.txt (line 9)) (2.0.7)\n",
      "Requirement already satisfied: certifi>=2017.4.17 in c:\\users\\antho\\appdata\\local\\programs\\python\\python39\\lib\\site-packages (from requests>=2.23.0->-r requirements.txt (line 9)) (2021.10.8)\n",
      "Requirement already satisfied: typing-extensions in c:\\users\\antho\\appdata\\local\\programs\\python\\python39\\lib\\site-packages (from torch>=1.7.0->-r requirements.txt (line 11)) (4.0.0)\n",
      "Requirement already satisfied: colorama in c:\\users\\antho\\appdata\\local\\programs\\python\\python39\\lib\\site-packages (from tqdm>=4.41.0->-r requirements.txt (line 13)) (0.4.4)\n",
      "Requirement already satisfied: protobuf>=3.6.0 in c:\\users\\antho\\appdata\\local\\programs\\python\\python39\\lib\\site-packages (from tensorboard>=2.4.1->-r requirements.txt (line 16)) (3.19.1)\n",
      "Requirement already satisfied: absl-py>=0.4 in c:\\users\\antho\\appdata\\local\\programs\\python\\python39\\lib\\site-packages (from tensorboard>=2.4.1->-r requirements.txt (line 16)) (1.0.0)\n",
      "Requirement already satisfied: google-auth<3,>=1.6.3 in c:\\users\\antho\\appdata\\local\\programs\\python\\python39\\lib\\site-packages (from tensorboard>=2.4.1->-r requirements.txt (line 16)) (2.3.3)\n",
      "Requirement already satisfied: tensorboard-data-server<0.7.0,>=0.6.0 in c:\\users\\antho\\appdata\\local\\programs\\python\\python39\\lib\\site-packages (from tensorboard>=2.4.1->-r requirements.txt (line 16)) (0.6.1)\n",
      "Requirement already satisfied: setuptools>=41.0.0 in c:\\users\\antho\\appdata\\local\\programs\\python\\python39\\lib\\site-packages (from tensorboard>=2.4.1->-r requirements.txt (line 16)) (58.1.0)\n",
      "Requirement already satisfied: wheel>=0.26 in c:\\users\\antho\\appdata\\local\\programs\\python\\python39\\lib\\site-packages (from tensorboard>=2.4.1->-r requirements.txt (line 16)) (0.37.0)\n",
      "Requirement already satisfied: werkzeug>=0.11.15 in c:\\users\\antho\\appdata\\local\\programs\\python\\python39\\lib\\site-packages (from tensorboard>=2.4.1->-r requirements.txt (line 16)) (2.0.2)\n",
      "Requirement already satisfied: tensorboard-plugin-wit>=1.6.0 in c:\\users\\antho\\appdata\\local\\programs\\python\\python39\\lib\\site-packages (from tensorboard>=2.4.1->-r requirements.txt (line 16)) (1.8.0)\n",
      "Requirement already satisfied: google-auth-oauthlib<0.5,>=0.4.1 in c:\\users\\antho\\appdata\\local\\programs\\python\\python39\\lib\\site-packages (from tensorboard>=2.4.1->-r requirements.txt (line 16)) (0.4.6)\n",
      "Requirement already satisfied: markdown>=2.6.8 in c:\\users\\antho\\appdata\\local\\programs\\python\\python39\\lib\\site-packages (from tensorboard>=2.4.1->-r requirements.txt (line 16)) (3.3.6)\n",
      "Requirement already satisfied: grpcio>=1.24.3 in c:\\users\\antho\\appdata\\local\\programs\\python\\python39\\lib\\site-packages (from tensorboard>=2.4.1->-r requirements.txt (line 16)) (1.42.0)\n",
      "Requirement already satisfied: pytz>=2017.3 in c:\\users\\antho\\appdata\\local\\programs\\python\\python39\\lib\\site-packages (from pandas>=1.1.4->-r requirements.txt (line 20)) (2021.3)\n",
      "Requirement already satisfied: six in c:\\users\\antho\\appdata\\local\\programs\\python\\python39\\lib\\site-packages (from absl-py>=0.4->tensorboard>=2.4.1->-r requirements.txt (line 16)) (1.16.0)\n",
      "Requirement already satisfied: pyasn1-modules>=0.2.1 in c:\\users\\antho\\appdata\\local\\programs\\python\\python39\\lib\\site-packages (from google-auth<3,>=1.6.3->tensorboard>=2.4.1->-r requirements.txt (line 16)) (0.2.8)\n",
      "Requirement already satisfied: rsa<5,>=3.1.4 in c:\\users\\antho\\appdata\\local\\programs\\python\\python39\\lib\\site-packages (from google-auth<3,>=1.6.3->tensorboard>=2.4.1->-r requirements.txt (line 16)) (4.7.2)\n",
      "Requirement already satisfied: cachetools<5.0,>=2.0.0 in c:\\users\\antho\\appdata\\local\\programs\\python\\python39\\lib\\site-packages (from google-auth<3,>=1.6.3->tensorboard>=2.4.1->-r requirements.txt (line 16)) (4.2.4)\n",
      "Requirement already satisfied: requests-oauthlib>=0.7.0 in c:\\users\\antho\\appdata\\local\\programs\\python\\python39\\lib\\site-packages (from google-auth-oauthlib<0.5,>=0.4.1->tensorboard>=2.4.1->-r requirements.txt (line 16)) (1.3.0)\n",
      "Requirement already satisfied: importlib-metadata>=4.4 in c:\\users\\antho\\appdata\\local\\programs\\python\\python39\\lib\\site-packages (from markdown>=2.6.8->tensorboard>=2.4.1->-r requirements.txt (line 16)) (4.8.2)\n",
      "Requirement already satisfied: zipp>=0.5 in c:\\users\\antho\\appdata\\local\\programs\\python\\python39\\lib\\site-packages (from importlib-metadata>=4.4->markdown>=2.6.8->tensorboard>=2.4.1->-r requirements.txt (line 16)) (3.6.0)\n",
      "Requirement already satisfied: pyasn1<0.5.0,>=0.4.6 in c:\\users\\antho\\appdata\\local\\programs\\python\\python39\\lib\\site-packages (from pyasn1-modules>=0.2.1->google-auth<3,>=1.6.3->tensorboard>=2.4.1->-r requirements.txt (line 16)) (0.4.8)\n",
      "Requirement already satisfied: oauthlib>=3.0.0 in c:\\users\\antho\\appdata\\local\\programs\\python\\python39\\lib\\site-packages (from requests-oauthlib>=0.7.0->google-auth-oauthlib<0.5,>=0.4.1->tensorboard>=2.4.1->-r requirements.txt (line 16)) (3.1.1)\n",
      "d:\\AIVC\\INF634 - COMPUTER VISION\\mask-detection-social-distancing\n"
     ]
    }
   ],
   "source": [
    "!git clone https://github.com/ultralytics/yolov5\n",
    "%cd yolov5/\n",
    "!pip install -r requirements.txt\n",
    "%cd ..\n",
    "clear_output()"
   ]
  },
  {
   "cell_type": "markdown",
   "metadata": {},
   "source": []
  }
 ],
 "metadata": {
  "interpreter": {
   "hash": "916dbcbb3f70747c44a77c7bcd40155683ae19c65e1c03b4aa3499c5328201f1"
  },
  "kernelspec": {
   "display_name": "Python 3.8.10 64-bit",
   "language": "python",
   "name": "python3"
  },
  "language_info": {
   "codemirror_mode": {
    "name": "ipython",
    "version": 3
   },
   "file_extension": ".py",
   "mimetype": "text/x-python",
   "name": "python",
   "nbconvert_exporter": "python",
   "pygments_lexer": "ipython3",
   "version": "3.9.6"
  },
  "orig_nbformat": 4
 },
 "nbformat": 4,
 "nbformat_minor": 2
}
