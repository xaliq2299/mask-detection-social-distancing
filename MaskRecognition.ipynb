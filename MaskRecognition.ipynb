{
 "cells": [
  {
   "cell_type": "markdown",
   "metadata": {},
   "source": [
    "# **Task 1 | Mask Recognition: Classify people wearing masks**"
   ]
  },
  {
   "cell_type": "markdown",
   "metadata": {},
   "source": [
    "___\n",
    "___"
   ]
  },
  {
   "cell_type": "markdown",
   "metadata": {},
   "source": [
    "## **1. INITIALIZATION**"
   ]
  },
  {
   "cell_type": "markdown",
   "metadata": {},
   "source": [
    "### *1.1 IMPORTS*"
   ]
  },
  {
   "cell_type": "code",
   "execution_count": 1,
   "metadata": {},
   "outputs": [],
   "source": [
    "from IPython.display import display\n",
    "from sklearn.metrics import confusion_matrix, ConfusionMatrixDisplay\n",
    "from tqdm import tqdm\n",
    "from xml.dom import minidom\n",
    "\n",
    "import cv2\n",
    "import matplotlib.pyplot as plt\n",
    "import numpy as np\n",
    "import os\n",
    "import pandas as pd\n",
    "import random as rd\n",
    "import time\n",
    "\n",
    "from torch.utils.data import Dataset, DataLoader\n",
    "from torchvision import models, transforms\n",
    "\n",
    "import torch\n",
    "import torch.nn as nn"
   ]
  },
  {
   "cell_type": "code",
   "execution_count": 2,
   "metadata": {},
   "outputs": [
    {
     "data": {
      "text/html": [
       "<details>\n",
       "<summary>Click to view session information</summary>\n",
       "<pre>\n",
       "-----\n",
       "cv2                 4.5.4\n",
       "matplotlib          3.5.0\n",
       "numpy               1.21.4\n",
       "pandas              1.3.4\n",
       "session_info        1.0.0\n",
       "sklearn             1.0.1\n",
       "torch               1.10.0+cu102\n",
       "torchvision         0.11.1+cu102\n",
       "tqdm                4.62.3\n",
       "-----\n",
       "</pre>\n",
       "<details>\n",
       "<summary>Click to view modules imported as dependencies</summary>\n",
       "<pre>\n",
       "PIL                         8.4.0\n",
       "astunparse                  1.6.3\n",
       "backcall                    0.2.0\n",
       "beta_ufunc                  NA\n",
       "binom_ufunc                 NA\n",
       "cffi                        1.15.0\n",
       "colorama                    0.4.4\n",
       "cycler                      0.10.0\n",
       "cython_runtime              NA\n",
       "dateutil                    2.8.2\n",
       "debugpy                     1.4.3\n",
       "decorator                   5.1.0\n",
       "defusedxml                  0.7.1\n",
       "entrypoints                 0.3\n",
       "google                      NA\n",
       "ipykernel                   6.4.1\n",
       "ipython_genutils            0.2.0\n",
       "jedi                        0.18.0\n",
       "joblib                      1.1.0\n",
       "kiwisolver                  1.3.2\n",
       "matplotlib_inline           NA\n",
       "mpl_toolkits                NA\n",
       "nbinom_ufunc                NA\n",
       "nt                          NA\n",
       "ntsecuritycon               NA\n",
       "packaging                   21.3\n",
       "parso                       0.8.2\n",
       "pickleshare                 0.7.5\n",
       "pkg_resources               NA\n",
       "prompt_toolkit              3.0.20\n",
       "pydev_ipython               NA\n",
       "pydevconsole                NA\n",
       "pydevd                      2.4.1\n",
       "pydevd_concurrency_analyser NA\n",
       "pydevd_file_utils           NA\n",
       "pydevd_plugins              NA\n",
       "pydevd_tracing              NA\n",
       "pyexpat                     NA\n",
       "pygments                    2.10.0\n",
       "pyparsing                   3.0.6\n",
       "pythoncom                   NA\n",
       "pytz                        2021.3\n",
       "pywin32_bootstrap           NA\n",
       "pywin32_system32            NA\n",
       "pywintypes                  NA\n",
       "scipy                       1.7.2\n",
       "six                         1.16.0\n",
       "storemagic                  NA\n",
       "threadpoolctl               3.0.0\n",
       "tornado                     6.1\n",
       "traitlets                   5.1.0\n",
       "typing_extensions           NA\n",
       "wcwidth                     0.2.5\n",
       "win32api                    NA\n",
       "win32com                    NA\n",
       "win32security               NA\n",
       "zmq                         22.3.0\n",
       "</pre>\n",
       "</details> <!-- seems like this ends pre, so might as well be explicit -->\n",
       "<pre>\n",
       "-----\n",
       "IPython             7.29.0\n",
       "jupyter_client      7.0.3\n",
       "jupyter_core        4.8.1\n",
       "notebook            6.4.3\n",
       "-----\n",
       "Python 3.9.6 (tags/v3.9.6:db3ff76, Jun 28 2021, 15:26:21) [MSC v.1929 64 bit (AMD64)]\n",
       "Windows-10-10.0.22000-SP0\n",
       "-----\n",
       "Session information updated at 2021-11-26 14:51\n",
       "</pre>\n",
       "</details>"
      ],
      "text/plain": [
       "<IPython.core.display.HTML object>"
      ]
     },
     "execution_count": 2,
     "metadata": {},
     "output_type": "execute_result"
    }
   ],
   "source": [
    "# To fill the `requirement.txt` file we use the following line of code:\n",
    "import session_info\n",
    "session_info.show()"
   ]
  },
  {
   "cell_type": "code",
   "execution_count": 3,
   "metadata": {},
   "outputs": [
    {
     "name": "stdout",
     "output_type": "stream",
     "text": [
      "device: cuda\n"
     ]
    }
   ],
   "source": [
    "# setting device on GPU if available, else CPU\n",
    "device = torch.device('cuda' if torch.cuda.is_available() else 'cpu')\n",
    "print(\"device: {}\".format(device))"
   ]
  },
  {
   "cell_type": "markdown",
   "metadata": {},
   "source": [
    "### *1.2. DATA LOADING*"
   ]
  },
  {
   "cell_type": "code",
   "execution_count": 4,
   "metadata": {},
   "outputs": [],
   "source": [
    "root_dir = \"data/FaceMaskDetection/\"\n",
    "anno_dir = root_dir + \"annotations/\"\n",
    "imgs_dir = root_dir + \"images/\""
   ]
  },
  {
   "cell_type": "code",
   "execution_count": 5,
   "metadata": {},
   "outputs": [],
   "source": [
    "def get_annotations(anno_dir):\n",
    "\n",
    "    \"\"\"\n",
    "\n",
    "    arg:\n",
    "    - anno_dir (str):   the directory with the .xml annotations files\n",
    "    \n",
    "    out:\n",
    "    - df (dataframe):   a dataframe matching an image id and a bounding box id to the size of\n",
    "                        the image, the position of the bounding box and its annotation:\n",
    "                        \"without mask\" or \"mask_weared_incorrect\" => 0 | \"with mask\" => 1  \n",
    "    \n",
    "    \"\"\"\n",
    "\n",
    "    files = os.listdir(anno_dir)\n",
    "    files.sort()\n",
    "    \n",
    "    # if the dataframe doesn't exist been created yet\n",
    "    if \"annotations.csv\" not in files:\n",
    "\n",
    "        data = []\n",
    "        mask_label = {\"without_mask\": 0, \"mask_weared_incorrect\": 1, \"with_mask\": 1}\n",
    "\n",
    "        for file in files:\n",
    "        \n",
    "            ann = minidom.parse(anno_dir+file)\n",
    "            img_id = int(ann.getElementsByTagName(\"filename\")[0].firstChild.data[12:-4])\n",
    "            img_height = int(ann.getElementsByTagName(\"height\")[0].firstChild.data)\n",
    "            img_width = int(ann.getElementsByTagName(\"width\")[0].firstChild.data)\n",
    "        \n",
    "            for i,object in enumerate(ann.getElementsByTagName(\"object\")):\n",
    "\n",
    "                box_id = i\n",
    "                label = mask_label[object.getElementsByTagName(\"name\")[0].firstChild.data]\n",
    "                xmin = object.getElementsByTagName(\"xmin\")[0].firstChild.data\n",
    "                xmax = object.getElementsByTagName(\"xmax\")[0].firstChild.data\n",
    "                ymin = object.getElementsByTagName(\"ymin\")[0].firstChild.data\n",
    "                ymax = object.getElementsByTagName(\"ymax\")[0].firstChild.data\n",
    "\n",
    "                data.append((img_id, img_height, img_width, box_id, label, xmin, xmax, ymin, ymax))\n",
    "        \n",
    "        columns = [\"img_id\", \"img_height\", \"img_width\", \"box_id\", \"label\", \"xmin\", \"xmax\", \"ymin\", \"ymax\"]\n",
    "        pd.DataFrame(data=data, columns=columns, index=None).to_csv(anno_dir+\"annotations.csv\", index=None)\n",
    "        \n",
    "    return pd.read_csv(anno_dir+\"/annotations.csv\", index_col=False)"
   ]
  },
  {
   "cell_type": "code",
   "execution_count": 6,
   "metadata": {},
   "outputs": [
    {
     "data": {
      "text/html": [
       "<div>\n",
       "<style scoped>\n",
       "    .dataframe tbody tr th:only-of-type {\n",
       "        vertical-align: middle;\n",
       "    }\n",
       "\n",
       "    .dataframe tbody tr th {\n",
       "        vertical-align: top;\n",
       "    }\n",
       "\n",
       "    .dataframe thead th {\n",
       "        text-align: right;\n",
       "    }\n",
       "</style>\n",
       "<table border=\"1\" class=\"dataframe\">\n",
       "  <thead>\n",
       "    <tr style=\"text-align: right;\">\n",
       "      <th></th>\n",
       "      <th>img_id</th>\n",
       "      <th>img_height</th>\n",
       "      <th>img_width</th>\n",
       "      <th>box_id</th>\n",
       "      <th>label</th>\n",
       "      <th>xmin</th>\n",
       "      <th>xmax</th>\n",
       "      <th>ymin</th>\n",
       "      <th>ymax</th>\n",
       "    </tr>\n",
       "  </thead>\n",
       "  <tbody>\n",
       "    <tr>\n",
       "      <th>0</th>\n",
       "      <td>0</td>\n",
       "      <td>366</td>\n",
       "      <td>512</td>\n",
       "      <td>0</td>\n",
       "      <td>0</td>\n",
       "      <td>79</td>\n",
       "      <td>109</td>\n",
       "      <td>105</td>\n",
       "      <td>142</td>\n",
       "    </tr>\n",
       "    <tr>\n",
       "      <th>1</th>\n",
       "      <td>0</td>\n",
       "      <td>366</td>\n",
       "      <td>512</td>\n",
       "      <td>1</td>\n",
       "      <td>1</td>\n",
       "      <td>185</td>\n",
       "      <td>226</td>\n",
       "      <td>100</td>\n",
       "      <td>144</td>\n",
       "    </tr>\n",
       "    <tr>\n",
       "      <th>2</th>\n",
       "      <td>0</td>\n",
       "      <td>366</td>\n",
       "      <td>512</td>\n",
       "      <td>2</td>\n",
       "      <td>0</td>\n",
       "      <td>325</td>\n",
       "      <td>360</td>\n",
       "      <td>90</td>\n",
       "      <td>141</td>\n",
       "    </tr>\n",
       "    <tr>\n",
       "      <th>3</th>\n",
       "      <td>1</td>\n",
       "      <td>156</td>\n",
       "      <td>400</td>\n",
       "      <td>0</td>\n",
       "      <td>1</td>\n",
       "      <td>321</td>\n",
       "      <td>354</td>\n",
       "      <td>34</td>\n",
       "      <td>69</td>\n",
       "    </tr>\n",
       "    <tr>\n",
       "      <th>4</th>\n",
       "      <td>1</td>\n",
       "      <td>156</td>\n",
       "      <td>400</td>\n",
       "      <td>1</td>\n",
       "      <td>1</td>\n",
       "      <td>224</td>\n",
       "      <td>261</td>\n",
       "      <td>38</td>\n",
       "      <td>73</td>\n",
       "    </tr>\n",
       "    <tr>\n",
       "      <th>...</th>\n",
       "      <td>...</td>\n",
       "      <td>...</td>\n",
       "      <td>...</td>\n",
       "      <td>...</td>\n",
       "      <td>...</td>\n",
       "      <td>...</td>\n",
       "      <td>...</td>\n",
       "      <td>...</td>\n",
       "      <td>...</td>\n",
       "    </tr>\n",
       "    <tr>\n",
       "      <th>4067</th>\n",
       "      <td>98</td>\n",
       "      <td>267</td>\n",
       "      <td>400</td>\n",
       "      <td>2</td>\n",
       "      <td>1</td>\n",
       "      <td>263</td>\n",
       "      <td>287</td>\n",
       "      <td>62</td>\n",
       "      <td>85</td>\n",
       "    </tr>\n",
       "    <tr>\n",
       "      <th>4068</th>\n",
       "      <td>98</td>\n",
       "      <td>267</td>\n",
       "      <td>400</td>\n",
       "      <td>3</td>\n",
       "      <td>1</td>\n",
       "      <td>344</td>\n",
       "      <td>377</td>\n",
       "      <td>80</td>\n",
       "      <td>106</td>\n",
       "    </tr>\n",
       "    <tr>\n",
       "      <th>4069</th>\n",
       "      <td>99</td>\n",
       "      <td>267</td>\n",
       "      <td>400</td>\n",
       "      <td>0</td>\n",
       "      <td>1</td>\n",
       "      <td>181</td>\n",
       "      <td>273</td>\n",
       "      <td>54</td>\n",
       "      <td>162</td>\n",
       "    </tr>\n",
       "    <tr>\n",
       "      <th>4070</th>\n",
       "      <td>99</td>\n",
       "      <td>267</td>\n",
       "      <td>400</td>\n",
       "      <td>1</td>\n",
       "      <td>1</td>\n",
       "      <td>99</td>\n",
       "      <td>176</td>\n",
       "      <td>87</td>\n",
       "      <td>165</td>\n",
       "    </tr>\n",
       "    <tr>\n",
       "      <th>4071</th>\n",
       "      <td>99</td>\n",
       "      <td>267</td>\n",
       "      <td>400</td>\n",
       "      <td>2</td>\n",
       "      <td>1</td>\n",
       "      <td>289</td>\n",
       "      <td>355</td>\n",
       "      <td>99</td>\n",
       "      <td>233</td>\n",
       "    </tr>\n",
       "  </tbody>\n",
       "</table>\n",
       "<p>4072 rows × 9 columns</p>\n",
       "</div>"
      ],
      "text/plain": [
       "      img_id  img_height  img_width  box_id  label  xmin  xmax  ymin  ymax\n",
       "0          0         366        512       0      0    79   109   105   142\n",
       "1          0         366        512       1      1   185   226   100   144\n",
       "2          0         366        512       2      0   325   360    90   141\n",
       "3          1         156        400       0      1   321   354    34    69\n",
       "4          1         156        400       1      1   224   261    38    73\n",
       "...      ...         ...        ...     ...    ...   ...   ...   ...   ...\n",
       "4067      98         267        400       2      1   263   287    62    85\n",
       "4068      98         267        400       3      1   344   377    80   106\n",
       "4069      99         267        400       0      1   181   273    54   162\n",
       "4070      99         267        400       1      1    99   176    87   165\n",
       "4071      99         267        400       2      1   289   355    99   233\n",
       "\n",
       "[4072 rows x 9 columns]"
      ]
     },
     "metadata": {},
     "output_type": "display_data"
    }
   ],
   "source": [
    "annotations = get_annotations(anno_dir)\n",
    "display(annotations)"
   ]
  },
  {
   "cell_type": "code",
   "execution_count": 7,
   "metadata": {},
   "outputs": [],
   "source": [
    "class FaceMaskDataset(Dataset):\n",
    "\n",
    "    def __init__(self, annotations, imgs_dir):\n",
    "        self.annotations = annotations\n",
    "        self.img_dir = imgs_dir\n",
    "    \n",
    "    def __len__(self):\n",
    "        return len(self.annotations)\n",
    "    \n",
    "    def __getitem__(self, idx):\n",
    "        img = plt.imread(self.img_dir+\"maksssksksss{}.png\".format(int(self.annotations.iloc[idx][\"img_id\"])))[:,:,:3]\n",
    "        xmin = self.annotations.iloc[idx][\"xmin\"]\n",
    "        xmax = self.annotations.iloc[idx][\"xmax\"]\n",
    "        ymin = self.annotations.iloc[idx][\"ymin\"]\n",
    "        ymax = self.annotations.iloc[idx][\"ymax\"]\n",
    "        img = transforms.Resize((64,64))(torch.Tensor(img[ymin:ymax,xmin:xmax]).permute(2,0,1))\n",
    "        label = torch.Tensor([int(self.annotations.iloc[idx][\"label\"])])\n",
    "        return img, label"
   ]
  },
  {
   "cell_type": "markdown",
   "metadata": {},
   "source": [
    "80% of the whole dataset is dedicated to training and the 20% left is used as a test dataset.\n",
    "\n",
    "To ensure that we keep the same elements within the two datasets, even after restarting the notebook, we add add a train column to the annotation_dataframe."
   ]
  },
  {
   "cell_type": "code",
   "execution_count": 8,
   "metadata": {},
   "outputs": [],
   "source": [
    "if \"train\" not in annotations:\n",
    "\n",
    "    train_size = int(0.80*len(annotations))\n",
    "    train_ids = rd.sample(range(len(annotations)), train_size)\n",
    "    annotations[\"train\"] = [i in train_ids for i in range(len(annotations))]\n",
    "    annotations.to_csv(anno_dir+\"annotations.csv\", index=None)\n",
    "\n",
    "train_dataset = FaceMaskDataset(annotations[annotations[\"train\"]], imgs_dir)\n",
    "test_dataset = FaceMaskDataset(annotations[annotations[\"train\"] == False], imgs_dir)\n",
    "\n",
    "batch_size = 128\n",
    "\n",
    "train_dataloader = DataLoader(dataset=train_dataset, batch_size=batch_size, shuffle=True)\n",
    "test_dataloader = DataLoader(dataset=test_dataset, batch_size=batch_size, shuffle=True)"
   ]
  },
  {
   "cell_type": "markdown",
   "metadata": {},
   "source": [
    "___"
   ]
  },
  {
   "cell_type": "markdown",
   "metadata": {},
   "source": [
    "## **2. THE MODELS**"
   ]
  },
  {
   "cell_type": "markdown",
   "metadata": {},
   "source": [
    "### *2.1. DEFINING THE MODELS*"
   ]
  },
  {
   "cell_type": "code",
   "execution_count": 59,
   "metadata": {},
   "outputs": [],
   "source": [
    "def ResNet18(device=device):\n",
    "\n",
    "    model = models.resnet18(pretrained=True)\n",
    "    for param in model.parameters():\n",
    "        param.requires_grad = False\n",
    "    model.fc = nn.Sequential(\n",
    "        nn.Linear(512,128),\n",
    "        nn.ReLU(),\n",
    "        nn.Linear(128,1),\n",
    "        nn.Sigmoid())\n",
    "    model.to(device)\n",
    "    return model"
   ]
  },
  {
   "cell_type": "code",
   "execution_count": 60,
   "metadata": {},
   "outputs": [],
   "source": [
    "def ResNet50(device=device):\n",
    "\n",
    "    model = models.resnet50(pretrained=True)\n",
    "    for param in model.parameters():\n",
    "        param.requires_grad = False\n",
    "    model.fc = nn.Sequential(\n",
    "        nn.Linear(2048,128),\n",
    "        nn.ReLU(),\n",
    "        nn.Linear(128,1),\n",
    "        nn.Sigmoid())\n",
    "    model.to(device)\n",
    "    return model"
   ]
  },
  {
   "cell_type": "code",
   "execution_count": 61,
   "metadata": {},
   "outputs": [],
   "source": [
    "def VGG19(device=device):\n",
    "    \n",
    "    model = models.vgg19(pretrained=True)\n",
    "    for param in model.parameters():\n",
    "        param.requires_grad = False\n",
    "    model.classifier[6] = nn.Sequential(\n",
    "        nn.Linear(4096,128),\n",
    "        nn.ReLU(),\n",
    "        nn.Linear(128,1),\n",
    "        nn.Sigmoid())\n",
    "    model.to(device)\n",
    "    return model"
   ]
  },
  {
   "cell_type": "markdown",
   "metadata": {},
   "source": [
    "### *2.2. TRAINING*"
   ]
  },
  {
   "cell_type": "markdown",
   "metadata": {},
   "source": [
    "We train each of the model 5 times over 10 epochs. We then observe the evolution of their losses and accuracies, and select the best model accordingly."
   ]
  },
  {
   "cell_type": "code",
   "execution_count": 54,
   "metadata": {},
   "outputs": [],
   "source": [
    "nb_iterations = 5\n",
    "nb_epochs = 2\n",
    "epoch_print_frequence = 1"
   ]
  },
  {
   "cell_type": "code",
   "execution_count": 55,
   "metadata": {},
   "outputs": [],
   "source": [
    "def train_model(model, criterion, optimizer, nb_epochs, epoch_print_frequence):\n",
    "\n",
    "    s = time.time()\n",
    "\n",
    "    train_losses, test_losses, train_accuracies, test_accuracies = [], [], [], []\n",
    "\n",
    "    for epoch in range(nb_epochs):\n",
    "\n",
    "        running_loss_train, running_loss_test, running_acc_train, running_acc_test = 0,0,0,0\n",
    "\n",
    "        for train in [True, False]:\n",
    "\n",
    "            if train:\n",
    "                dataloader = train_dataloader\n",
    "                model.train()\n",
    "            else:\n",
    "                dataloader = test_dataloader\n",
    "                model.eval()\n",
    "\n",
    "            for inputs,labels in dataloader:\n",
    "\n",
    "                inputs = inputs.to(device)\n",
    "                labels = labels.to(device)\n",
    "\n",
    "                if train:\n",
    "                    optimizer.zero_grad()\n",
    "\n",
    "                outputs = model(inputs)\n",
    "                loss = criterion(outputs, labels)\n",
    "\n",
    "                if train:\n",
    "                    loss.backward()\n",
    "                    optimizer.step()\n",
    "                    running_loss_train += loss.item()\n",
    "                    running_acc_train += np.sum(labels.cpu().detach().numpy() == np.round(outputs.cpu().detach().numpy())) \n",
    "                    \n",
    "                else:\n",
    "                    running_loss_test += loss.item()\n",
    "                    running_acc_test += np.sum(labels.cpu().detach().numpy() == np.round(outputs.cpu().detach().numpy())) \n",
    "\n",
    "        running_loss_train /= len(train_dataloader)\n",
    "        running_loss_test /= len(test_dataloader)\n",
    "        running_acc_train /= len(train_dataset)\n",
    "        running_acc_test /= len(test_dataset)\n",
    "\n",
    "        train_losses.append(running_loss_train)\n",
    "        test_losses.append(running_loss_test)\n",
    "        train_accuracies.append(running_acc_train)\n",
    "        test_accuracies.append(running_acc_test)\n",
    "\n",
    "        if (epoch+1) % epoch_print_frequence == 0:\n",
    "            print(\"- epochs {}/{} ({} s) | train loss : {} | test loss : {} | train acc : {} | test acc : {}\".format(\n",
    "                epoch+1,\n",
    "                nb_epochs,\n",
    "                int(time.time()-s),\n",
    "                int(1000000*running_loss_train)/1000000,\n",
    "                int(1000000*running_loss_test)/1000000,\n",
    "                int(1000000*running_acc_train)/1000000,\n",
    "                int(1000000*running_acc_test)/1000000)\n",
    "            )\n",
    "    \n",
    "    return np.array(train_losses), np.array(test_losses), np.array(train_accuracies), np.array(test_accuracies)"
   ]
  },
  {
   "cell_type": "code",
   "execution_count": 56,
   "metadata": {},
   "outputs": [
    {
     "name": "stdout",
     "output_type": "stream",
     "text": [
      "train loop 1\n",
      "epochs 1/2 (56 s) | train loss : 0.422555 | test loss : 0.347621 | train acc : 0.820693 | test acc : 0.868711\n",
      "epochs 2/2 (111 s) | train loss : 0.264322 | test loss : 0.227033 | train acc : 0.893153 | test acc : 0.900613\n",
      "train loop 2\n",
      "epochs 1/2 (56 s) | train loss : 0.436842 | test loss : 0.374359 | train acc : 0.818851 | test acc : 0.873619\n",
      "epochs 2/2 (111 s) | train loss : 0.275521 | test loss : 0.231917 | train acc : 0.883021 | test acc : 0.910429\n",
      "train loop 3\n",
      "epochs 1/2 (54 s) | train loss : 0.475355 | test loss : 0.372643 | train acc : 0.800429 | test acc : 0.855214\n",
      "epochs 2/2 (109 s) | train loss : 0.31863 | test loss : 0.28748 | train acc : 0.859993 | test acc : 0.90184\n",
      "train loop 4\n",
      "epochs 1/2 (54 s) | train loss : 0.478517 | test loss : 0.371491 | train acc : 0.795824 | test acc : 0.851533\n",
      "epochs 2/2 (108 s) | train loss : 0.340846 | test loss : 0.280394 | train acc : 0.850475 | test acc : 0.896932\n",
      "train loop 5\n",
      "epochs 1/2 (54 s) | train loss : 0.423668 | test loss : 0.394847 | train acc : 0.821614 | test acc : 0.86503\n",
      "epochs 2/2 (109 s) | train loss : 0.276382 | test loss : 0.243608 | train acc : 0.885477 | test acc : 0.900613\n"
     ]
    }
   ],
   "source": [
    "resultsRSN18 = []\n",
    "\n",
    "for i in range(nb_iterations):\n",
    "\n",
    "    modelRSN18 = ResNet18()\n",
    "    optimizerRSN18 = torch.optim.Adam(modelRSN18.parameters(), lr=1e-3)\n",
    "    criterionRSN18 = nn.BCELoss().cuda()\n",
    "    print(\"train loop {}\".format(i+1))\n",
    "    resultsRSN18.append(train_model(modelRSN18, criterionRSN18, optimizerRSN18, nb_epochs, epoch_print_frequence))"
   ]
  },
  {
   "cell_type": "code",
   "execution_count": 76,
   "metadata": {},
   "outputs": [
    {
     "data": {
      "image/png": "[encoded data removed]",
      "text/plain": [
       "<Figure size 720x288 with 2 Axes>"
      ]
     },
     "metadata": {
      "needs_background": "light"
     },
     "output_type": "display_data"
    }
   ],
   "source": [
    "fig, ax = plt.subplots(nrows=1, ncols=2, figsize=(10,4))\n",
    "\n",
    "train_losses_RSN18 = resultsRSN18[0][0]\n",
    "test_losses_RSN18 = resultsRSN18[0][1]\n",
    "train_acc_RSN18 = resultsRSN18[0][2]\n",
    "test_acc_RSN18 = resultsRSN18[0][3]\n",
    "\n",
    "for i in range(1,nb_iterations):\n",
    "    train_losses_RSN18 += resultsRSN18[i][0]\n",
    "    test_losses_RSN18 += resultsRSN18[i][1]\n",
    "    train_acc_RSN18 += resultsRSN18[i][2]\n",
    "    test_acc_RSN18 += resultsRSN18[i][3]\n",
    "\n",
    "train_losses_RSN18 /= nb_iterations\n",
    "test_losses_RSN18 /= nb_iterations\n",
    "train_acc_RSN18 /= nb_iterations\n",
    "test_acc_RSN18 /= nb_iterations\n",
    "\n",
    "ax[0].set(title=\"ResNet18 BCE Loss Evolution\")\n",
    "ax[0].plot(train_losses_RSN18, label=\"train\")\n",
    "ax[0].plot(test_losses_RSN18, label=\"test\")\n",
    "ax[0].set_xlabel(\"Epochs\")\n",
    "ax[0].set_ylabel(\"BCE Loss\")\n",
    "\n",
    "ax[1].set(title=\"ResNet18 Accuracy Evolution\")\n",
    "ax[1].plot(train_acc_RSN18, label=\"train\")\n",
    "ax[1].plot(train_acc_RSN18, label=\"test\")\n",
    "ax[1].set_xlabel(\"Epochs\")\n",
    "ax[1].set_ylabel(\"Accuracy\")\n",
    "\n",
    "plt.legend()\n",
    "plt.show()"
   ]
  },
  {
   "cell_type": "code",
   "execution_count": 77,
   "metadata": {},
   "outputs": [
    {
     "name": "stdout",
     "output_type": "stream",
     "text": [
      "train loop 1\n",
      "epochs 1/2 (55 s) | train loss : 0.420411 | test loss : 0.375662 | train acc : 0.809026 | test acc : 0.856441\n",
      "epochs 2/2 (113 s) | train loss : 0.293344 | test loss : 0.260158 | train acc : 0.857844 | test acc : 0.898159\n",
      "\n",
      "\n",
      "train loop 2\n",
      "epochs 1/2 (55 s) | train loss : 0.415271 | test loss : 0.355475 | train acc : 0.804114 | test acc : 0.851533\n",
      "epochs 2/2 (111 s) | train loss : 0.294636 | test loss : 0.271905 | train acc : 0.842186 | test acc : 0.888343\n",
      "\n",
      "\n",
      "train loop 3\n",
      "epochs 1/2 (55 s) | train loss : 0.418267 | test loss : 0.356824 | train acc : 0.821 | test acc : 0.862576\n",
      "epochs 2/2 (110 s) | train loss : 0.2651 | test loss : 0.264979 | train acc : 0.889775 | test acc : 0.895705\n",
      "\n",
      "\n",
      "train loop 4\n",
      "epochs 1/2 (59 s) | train loss : 0.42277 | test loss : 0.399273 | train acc : 0.797666 | test acc : 0.851533\n",
      "epochs 2/2 (115 s) | train loss : 0.299774 | test loss : 0.280517 | train acc : 0.817009 | test acc : 0.851533\n",
      "\n",
      "\n",
      "train loop 5\n",
      "epochs 1/2 (57 s) | train loss : 0.400205 | test loss : 0.363193 | train acc : 0.836352 | test acc : 0.866257\n",
      "epochs 2/2 (114 s) | train loss : 0.259228 | test loss : 0.245902 | train acc : 0.897144 | test acc : 0.90184\n",
      "\n",
      "\n"
     ]
    }
   ],
   "source": [
    "resultsRSN50 = []\n",
    "\n",
    "for i in range(nb_iterations):\n",
    "\n",
    "    modelRSN50 = ResNet50()\n",
    "    optimizerRSN50 = torch.optim.Adam(modelRSN50.parameters(), lr=1e-3)\n",
    "    criterionRSN50 = nn.BCELoss().cuda()\n",
    "    print(\"train loop {}\".format(i+1))\n",
    "    resultsRSN50.append(train_model(modelRSN50, criterionRSN50, optimizerRSN50, nb_epochs, epoch_print_frequence))"
   ]
  },
  {
   "cell_type": "code",
   "execution_count": 78,
   "metadata": {},
   "outputs": [
    {
     "data": {
      "image/png": "[encoded data removed]",
      "text/plain": [
       "<Figure size 576x288 with 2 Axes>"
      ]
     },
     "metadata": {
      "needs_background": "light"
     },
     "output_type": "display_data"
    }
   ],
   "source": [
    "fig, ax = plt.subplots(nrows=1, ncols=2, figsize=(8,4))\n",
    "\n",
    "train_losses_RSN50 = resultsRSN50[0][0]\n",
    "test_losses_RSN50 = resultsRSN50[0][1]\n",
    "train_acc_RSN50 = resultsRSN50[0][2]\n",
    "test_acc_RSN50 = resultsRSN50[0][3]\n",
    "\n",
    "for i in range(1,nb_iterations):\n",
    "    train_losses_RSN50 += resultsRSN50[i][0]\n",
    "    test_losses_RSN50 += resultsRSN50[i][1]\n",
    "    train_acc_RSN50 += resultsRSN50[i][2]\n",
    "    test_acc_RSN50 += resultsRSN50[i][3]\n",
    "\n",
    "train_losses_RSN50 /= nb_iterations\n",
    "test_losses_RSN50 /= nb_iterations\n",
    "train_acc_RSN50 /= nb_iterations\n",
    "test_acc_RSN50 /= nb_iterations\n",
    "\n",
    "ax[0].set(title=\"ResNet50 BCE Loss Evolution\")\n",
    "ax[0].plot(train_losses_RSN50, label=\"train\")\n",
    "ax[0].plot(test_losses_RSN50, label=\"test\")\n",
    "ax[0].set_xlabel(\"Epochs\")\n",
    "ax[0].set_ylabel(\"BCE Loss\")\n",
    "\n",
    "ax[1].set(title=\"ResNet50 Accuracy Evolution\")\n",
    "ax[1].plot(train_acc_RSN50, label=\"train\")\n",
    "ax[1].plot(test_acc_RSN50, label=\"test\")\n",
    "ax[1].set_xlabel(\"Epochs\")\n",
    "ax[1].set_ylabel(\"Accuracy\")\n",
    "\n",
    "plt.legend()\n",
    "plt.show()"
   ]
  },
  {
   "cell_type": "code",
   "execution_count": null,
   "metadata": {},
   "outputs": [],
   "source": [
    "resultsVGG19 = []\n",
    "\n",
    "for i in range(nb_iterations):\n",
    "\n",
    "    modelVGG19 = VGG19()\n",
    "    optimizerVGG19 = torch.optim.Adam(modelVGG19.parameters(), lr=1e-3)\n",
    "    criterionVGG19 = nn.BCELoss().cuda()\n",
    "    print(\"train loop {}\".format(i+1))\n",
    "    resultsVGG19.append(train_model(modelVGG19, criterionVGG19, optimizerVGG19, nb_epochs, epoch_print_frequence))\n",
    "    print(\"\\n\")"
   ]
  },
  {
   "cell_type": "code",
   "execution_count": null,
   "metadata": {},
   "outputs": [],
   "source": [
    "fig, ax = plt.subplots(nrows=1, ncols=2, figsize=(8,4))\n",
    "\n",
    "train_losses_VGG19 = resultsVGG19[0][0]\n",
    "test_losses_VGG19 = resultsVGG19[0][1]\n",
    "train_acc_VGG19 = resultsVGG19[0][2]\n",
    "test_acc_VGG19 = resultsVGG19[0][3]\n",
    "\n",
    "for i in range(1,nb_iterations):\n",
    "    train_losses_VGG19 += resultsVGG19[i][0]\n",
    "    test_losses_VGG19 += resultsVGG19[i][1]\n",
    "    train_acc_VGG19 += resultsVGG19[i][2]\n",
    "    test_acc_VGG19 += resultsVGG19[i][3]\n",
    "\n",
    "train_losses_VGG19 /= nb_iterations\n",
    "test_losses_VGG19 /= nb_iterations\n",
    "train_acc_VGG19 /= nb_iterations\n",
    "test_acc_VGG19 /= nb_iterations\n",
    "\n",
    "ax[0].set(title=\"VGG19 BCE Loss Evolution\")\n",
    "ax[0].plot(train_losses_VGG19, label=\"train\")\n",
    "ax[0].plot(test_losses_VGG19, label=\"test\")\n",
    "ax[0].set_xlabel(\"Epochs\")\n",
    "ax[0].set_ylabel(\"BCE Loss\")\n",
    "\n",
    "ax[1].set(title=\"VGG19 Accuracy Evolution\")\n",
    "ax[1].plot(train_acc_VGG19, label=\"train\")\n",
    "ax[1].plot(test_acc_VGG19, label=\"test\")\n",
    "ax[1].set_xlabel(\"Epochs\")\n",
    "ax[1].set_ylabel(\"Accuracy\")\n",
    "\n",
    "plt.legend()\n",
    "plt.show()"
   ]
  },
  {
   "cell_type": "markdown",
   "metadata": {},
   "source": [
    "### *2.3. SAVING THE MODEL*"
   ]
  },
  {
   "cell_type": "markdown",
   "metadata": {},
   "source": [
    "Given the losses and accuracies evolution we decided to use the ResNet50 in the following tasks."
   ]
  },
  {
   "cell_type": "code",
   "execution_count": 81,
   "metadata": {},
   "outputs": [],
   "source": [
    "torch.save(modelRSN50.state_dict(), \"./models/MaskRecognitionRSN50.pt\")"
   ]
  },
  {
   "cell_type": "markdown",
   "metadata": {},
   "source": [
    "___"
   ]
  },
  {
   "cell_type": "markdown",
   "metadata": {},
   "source": [
    "## **3. TESTING THE MODELS**"
   ]
  },
  {
   "cell_type": "markdown",
   "metadata": {},
   "source": [
    "### *3.1. CONFUSION MATRIX*"
   ]
  },
  {
   "cell_type": "code",
   "execution_count": 82,
   "metadata": {},
   "outputs": [],
   "source": [
    "train_labels = np.array(annotations[annotations[\"train\"]][\"label\"])\n",
    "test_labels = np.array(annotations[annotations[\"train\"] == False][\"label\"])"
   ]
  },
  {
   "cell_type": "code",
   "execution_count": 83,
   "metadata": {},
   "outputs": [
    {
     "name": "stderr",
     "output_type": "stream",
     "text": [
      "100%|██████████| 4072/4072 [01:33<00:00, 43.58it/s]\n"
     ]
    }
   ],
   "source": [
    "train_predicted_labels = []\n",
    "test_predicted_labels = []\n",
    "\n",
    "for i in tqdm(range(len(annotations))):\n",
    "\n",
    "    xmin = annotations.iloc[i][\"xmin\"]\n",
    "    xmax = annotations.iloc[i][\"xmax\"]\n",
    "    ymin = annotations.iloc[i][\"ymin\"]\n",
    "    ymax = annotations.iloc[i][\"ymax\"]\n",
    "\n",
    "    label = annotations.iloc[i][\"label\"]\n",
    "\n",
    "    img = plt.imread(imgs_dir+\"/maksssksksss{}.png\".format(annotations.iloc[i][\"img_id\"]))[:,:,:3]\n",
    "    img_tensor = transforms.Resize((64,64))(torch.Tensor(img[ymin:ymax,xmin:xmax]).permute(2,0,1))\n",
    "    img_tensor = img_tensor.reshape((1,3,64,64)).to(device)\n",
    "\n",
    "    predRSN50 = torch.round(modelRSN50(img_tensor)).item()\n",
    "\n",
    "    if annotations.iloc[i][\"train\"]:\n",
    "        train_predicted_labels.append(predRSN50)\n",
    "    else:\n",
    "        test_predicted_labels.append(predRSN50)\n",
    "\n",
    "train_labelsRSN50 = np.array(train_predicted_labels)\n",
    "test_labelsRSN50 = np.array(test_predicted_labels)"
   ]
  },
  {
   "cell_type": "code",
   "execution_count": 84,
   "metadata": {},
   "outputs": [
    {
     "data": {
      "image/png": "[encoded data removed]",
      "text/plain": [
       "<Figure size 432x288 with 2 Axes>"
      ]
     },
     "metadata": {
      "needs_background": "light"
     },
     "output_type": "display_data"
    }
   ],
   "source": [
    "train_cmRSN50 = confusion_matrix(train_labels, train_predicted_labels)\n",
    "train_dispRSN50 = ConfusionMatrixDisplay(confusion_matrix=train_cmRSN50)\n",
    "train_dispRSN50.plot()\n",
    "plt.title(\"ResNet50 Confusion Matrix\\nOver the Train Dataset\")\n",
    "plt.show()"
   ]
  },
  {
   "cell_type": "code",
   "execution_count": 85,
   "metadata": {},
   "outputs": [
    {
     "data": {
      "image/png": "[encoded data removed]",
      "text/plain": [
       "<Figure size 432x288 with 2 Axes>"
      ]
     },
     "metadata": {
      "needs_background": "light"
     },
     "output_type": "display_data"
    }
   ],
   "source": [
    "test_cmRSN50 = confusion_matrix(test_labels, test_predicted_labels)\n",
    "test_dispRSN50 = ConfusionMatrixDisplay(confusion_matrix=test_cmRSN50)\n",
    "test_dispRSN50.plot()\n",
    "plt.title(\"ResNet50 Confusion Matrix\\nOver the Test Dataset\")\n",
    "plt.show()"
   ]
  },
  {
   "cell_type": "markdown",
   "metadata": {},
   "source": [
    "### *3.3. VISUALIZING PREDICTION*"
   ]
  },
  {
   "cell_type": "code",
   "execution_count": 121,
   "metadata": {},
   "outputs": [],
   "source": [
    "def show_random_results(model, nb_images):\n",
    "\n",
    "    img_ids = rd.sample(list(annotations[\"img_id\"]), nb_images)\n",
    "\n",
    "    for img_id in img_ids:\n",
    "\n",
    "        a = annotations[annotations[\"img_id\"] == img_id]\n",
    "        img = plt.imread(imgs_dir+\"/maksssksksss{}.png\".format(img_id))[:,:,:3]\n",
    "        overlay = img.copy()\n",
    "        output = img.copy()\n",
    "\n",
    "        for i in range(len(a)):\n",
    "            \n",
    "            xmin = a.iloc[i][\"xmin\"]\n",
    "            xmax = a.iloc[i][\"xmax\"]\n",
    "            ymin = a.iloc[i][\"ymin\"]\n",
    "            ymax = a.iloc[i][\"ymax\"]\n",
    "            \n",
    "            img_tensor = transforms.Resize((64,64))(torch.Tensor(img[ymin:ymax,xmin:xmax]).permute(2,0,1))\n",
    "            img_tensor = img_tensor.reshape((1,3,64,64)).to(device)\n",
    "            pred = torch.round(model(img_tensor)).item()\n",
    "\n",
    "            if pred == 0:\n",
    "                cv2.rectangle(overlay, (xmin,ymin), (xmax,ymax), (2,0,0), 1)\n",
    "            \n",
    "            else:\n",
    "                cv2.rectangle(overlay, (xmin,ymin), (xmax,ymax), (0,1,0), 1)\n",
    "            \n",
    "            output = cv2.addWeighted(overlay, 0.5, output, 0.5, 0, output)\n",
    "            \n",
    "        output = cv2.resize(output, (int(output.shape[0]/2), int(output.shape[1]/2)))\n",
    "        plt.figure(figsize=(15,9))\n",
    "        plt.imshow(output)\n",
    "        plt.show()"
   ]
  },
  {
   "cell_type": "code",
   "execution_count": 122,
   "metadata": {},
   "outputs": [
    {
     "ename": "RuntimeError",
     "evalue": "Input and output sizes should be greater than 0, but got input (H: 0, W: 18) output (H: 64, W: 64)",
     "output_type": "error",
     "traceback": [
      "\u001b[1;31m---------------------------------------------------------------------------\u001b[0m",
      "\u001b[1;31mRuntimeError\u001b[0m                              Traceback (most recent call last)",
      "\u001b[1;32m~\\AppData\\Local\\Temp/ipykernel_19868/3614149202.py\u001b[0m in \u001b[0;36m<module>\u001b[1;34m\u001b[0m\n\u001b[1;32m----> 1\u001b[1;33m \u001b[0mshow_random_results\u001b[0m\u001b[1;33m(\u001b[0m\u001b[0mmodelRSN50\u001b[0m\u001b[1;33m,\u001b[0m \u001b[1;36m5\u001b[0m\u001b[1;33m)\u001b[0m\u001b[1;33m\u001b[0m\u001b[1;33m\u001b[0m\u001b[0m\n\u001b[0m",
      "\u001b[1;32m~\\AppData\\Local\\Temp/ipykernel_19868/4030240114.py\u001b[0m in \u001b[0;36mshow_random_results\u001b[1;34m(model, nb_images)\u001b[0m\n\u001b[0;32m     18\u001b[0m             \u001b[0mymax\u001b[0m \u001b[1;33m=\u001b[0m \u001b[0ma\u001b[0m\u001b[1;33m.\u001b[0m\u001b[0miloc\u001b[0m\u001b[1;33m[\u001b[0m\u001b[0mi\u001b[0m\u001b[1;33m]\u001b[0m\u001b[1;33m[\u001b[0m\u001b[1;34m\"ymax\"\u001b[0m\u001b[1;33m]\u001b[0m\u001b[1;33m\u001b[0m\u001b[1;33m\u001b[0m\u001b[0m\n\u001b[0;32m     19\u001b[0m \u001b[1;33m\u001b[0m\u001b[0m\n\u001b[1;32m---> 20\u001b[1;33m             \u001b[0mimg_tensor\u001b[0m \u001b[1;33m=\u001b[0m \u001b[0mtransforms\u001b[0m\u001b[1;33m.\u001b[0m\u001b[0mResize\u001b[0m\u001b[1;33m(\u001b[0m\u001b[1;33m(\u001b[0m\u001b[1;36m64\u001b[0m\u001b[1;33m,\u001b[0m\u001b[1;36m64\u001b[0m\u001b[1;33m)\u001b[0m\u001b[1;33m)\u001b[0m\u001b[1;33m(\u001b[0m\u001b[0mtorch\u001b[0m\u001b[1;33m.\u001b[0m\u001b[0mTensor\u001b[0m\u001b[1;33m(\u001b[0m\u001b[0mimg\u001b[0m\u001b[1;33m[\u001b[0m\u001b[0mymin\u001b[0m\u001b[1;33m:\u001b[0m\u001b[0mymax\u001b[0m\u001b[1;33m,\u001b[0m\u001b[0mxmin\u001b[0m\u001b[1;33m:\u001b[0m\u001b[0mxmax\u001b[0m\u001b[1;33m]\u001b[0m\u001b[1;33m)\u001b[0m\u001b[1;33m.\u001b[0m\u001b[0mpermute\u001b[0m\u001b[1;33m(\u001b[0m\u001b[1;36m2\u001b[0m\u001b[1;33m,\u001b[0m\u001b[1;36m0\u001b[0m\u001b[1;33m,\u001b[0m\u001b[1;36m1\u001b[0m\u001b[1;33m)\u001b[0m\u001b[1;33m)\u001b[0m\u001b[1;33m\u001b[0m\u001b[1;33m\u001b[0m\u001b[0m\n\u001b[0m\u001b[0;32m     21\u001b[0m             \u001b[0mimg_tensor\u001b[0m \u001b[1;33m=\u001b[0m \u001b[0mimg_tensor\u001b[0m\u001b[1;33m.\u001b[0m\u001b[0mreshape\u001b[0m\u001b[1;33m(\u001b[0m\u001b[1;33m(\u001b[0m\u001b[1;36m1\u001b[0m\u001b[1;33m,\u001b[0m\u001b[1;36m3\u001b[0m\u001b[1;33m,\u001b[0m\u001b[1;36m64\u001b[0m\u001b[1;33m,\u001b[0m\u001b[1;36m64\u001b[0m\u001b[1;33m)\u001b[0m\u001b[1;33m)\u001b[0m\u001b[1;33m.\u001b[0m\u001b[0mto\u001b[0m\u001b[1;33m(\u001b[0m\u001b[0mdevice\u001b[0m\u001b[1;33m)\u001b[0m\u001b[1;33m\u001b[0m\u001b[1;33m\u001b[0m\u001b[0m\n\u001b[0;32m     22\u001b[0m             \u001b[0mpred\u001b[0m \u001b[1;33m=\u001b[0m \u001b[0mtorch\u001b[0m\u001b[1;33m.\u001b[0m\u001b[0mround\u001b[0m\u001b[1;33m(\u001b[0m\u001b[0mmodel\u001b[0m\u001b[1;33m(\u001b[0m\u001b[0mimg_tensor\u001b[0m\u001b[1;33m)\u001b[0m\u001b[1;33m)\u001b[0m\u001b[1;33m.\u001b[0m\u001b[0mitem\u001b[0m\u001b[1;33m(\u001b[0m\u001b[1;33m)\u001b[0m\u001b[1;33m\u001b[0m\u001b[1;33m\u001b[0m\u001b[0m\n",
      "\u001b[1;32m~\\AppData\\Local\\Programs\\Python\\Python39\\lib\\site-packages\\torch\\nn\\modules\\module.py\u001b[0m in \u001b[0;36m_call_impl\u001b[1;34m(self, *input, **kwargs)\u001b[0m\n\u001b[0;32m   1100\u001b[0m         if not (self._backward_hooks or self._forward_hooks or self._forward_pre_hooks or _global_backward_hooks\n\u001b[0;32m   1101\u001b[0m                 or _global_forward_hooks or _global_forward_pre_hooks):\n\u001b[1;32m-> 1102\u001b[1;33m             \u001b[1;32mreturn\u001b[0m \u001b[0mforward_call\u001b[0m\u001b[1;33m(\u001b[0m\u001b[1;33m*\u001b[0m\u001b[0minput\u001b[0m\u001b[1;33m,\u001b[0m \u001b[1;33m**\u001b[0m\u001b[0mkwargs\u001b[0m\u001b[1;33m)\u001b[0m\u001b[1;33m\u001b[0m\u001b[1;33m\u001b[0m\u001b[0m\n\u001b[0m\u001b[0;32m   1103\u001b[0m         \u001b[1;31m# Do not call functions when jit is used\u001b[0m\u001b[1;33m\u001b[0m\u001b[1;33m\u001b[0m\u001b[1;33m\u001b[0m\u001b[0m\n\u001b[0;32m   1104\u001b[0m         \u001b[0mfull_backward_hooks\u001b[0m\u001b[1;33m,\u001b[0m \u001b[0mnon_full_backward_hooks\u001b[0m \u001b[1;33m=\u001b[0m \u001b[1;33m[\u001b[0m\u001b[1;33m]\u001b[0m\u001b[1;33m,\u001b[0m \u001b[1;33m[\u001b[0m\u001b[1;33m]\u001b[0m\u001b[1;33m\u001b[0m\u001b[1;33m\u001b[0m\u001b[0m\n",
      "\u001b[1;32m~\\AppData\\Local\\Programs\\Python\\Python39\\lib\\site-packages\\torchvision\\transforms\\transforms.py\u001b[0m in \u001b[0;36mforward\u001b[1;34m(self, img)\u001b[0m\n\u001b[0;32m    302\u001b[0m             \u001b[0mPIL\u001b[0m \u001b[0mImage\u001b[0m \u001b[1;32mor\u001b[0m \u001b[0mTensor\u001b[0m\u001b[1;33m:\u001b[0m \u001b[0mRescaled\u001b[0m \u001b[0mimage\u001b[0m\u001b[1;33m.\u001b[0m\u001b[1;33m\u001b[0m\u001b[1;33m\u001b[0m\u001b[0m\n\u001b[0;32m    303\u001b[0m         \"\"\"\n\u001b[1;32m--> 304\u001b[1;33m         \u001b[1;32mreturn\u001b[0m \u001b[0mF\u001b[0m\u001b[1;33m.\u001b[0m\u001b[0mresize\u001b[0m\u001b[1;33m(\u001b[0m\u001b[0mimg\u001b[0m\u001b[1;33m,\u001b[0m \u001b[0mself\u001b[0m\u001b[1;33m.\u001b[0m\u001b[0msize\u001b[0m\u001b[1;33m,\u001b[0m \u001b[0mself\u001b[0m\u001b[1;33m.\u001b[0m\u001b[0minterpolation\u001b[0m\u001b[1;33m,\u001b[0m \u001b[0mself\u001b[0m\u001b[1;33m.\u001b[0m\u001b[0mmax_size\u001b[0m\u001b[1;33m,\u001b[0m \u001b[0mself\u001b[0m\u001b[1;33m.\u001b[0m\u001b[0mantialias\u001b[0m\u001b[1;33m)\u001b[0m\u001b[1;33m\u001b[0m\u001b[1;33m\u001b[0m\u001b[0m\n\u001b[0m\u001b[0;32m    305\u001b[0m \u001b[1;33m\u001b[0m\u001b[0m\n\u001b[0;32m    306\u001b[0m     \u001b[1;32mdef\u001b[0m \u001b[0m__repr__\u001b[0m\u001b[1;33m(\u001b[0m\u001b[0mself\u001b[0m\u001b[1;33m)\u001b[0m\u001b[1;33m:\u001b[0m\u001b[1;33m\u001b[0m\u001b[1;33m\u001b[0m\u001b[0m\n",
      "\u001b[1;32m~\\AppData\\Local\\Programs\\Python\\Python39\\lib\\site-packages\\torchvision\\transforms\\functional.py\u001b[0m in \u001b[0;36mresize\u001b[1;34m(img, size, interpolation, max_size, antialias)\u001b[0m\n\u001b[0;32m    419\u001b[0m         \u001b[1;32mreturn\u001b[0m \u001b[0mF_pil\u001b[0m\u001b[1;33m.\u001b[0m\u001b[0mresize\u001b[0m\u001b[1;33m(\u001b[0m\u001b[0mimg\u001b[0m\u001b[1;33m,\u001b[0m \u001b[0msize\u001b[0m\u001b[1;33m=\u001b[0m\u001b[0msize\u001b[0m\u001b[1;33m,\u001b[0m \u001b[0minterpolation\u001b[0m\u001b[1;33m=\u001b[0m\u001b[0mpil_interpolation\u001b[0m\u001b[1;33m,\u001b[0m \u001b[0mmax_size\u001b[0m\u001b[1;33m=\u001b[0m\u001b[0mmax_size\u001b[0m\u001b[1;33m)\u001b[0m\u001b[1;33m\u001b[0m\u001b[1;33m\u001b[0m\u001b[0m\n\u001b[0;32m    420\u001b[0m \u001b[1;33m\u001b[0m\u001b[0m\n\u001b[1;32m--> 421\u001b[1;33m     \u001b[1;32mreturn\u001b[0m \u001b[0mF_t\u001b[0m\u001b[1;33m.\u001b[0m\u001b[0mresize\u001b[0m\u001b[1;33m(\u001b[0m\u001b[0mimg\u001b[0m\u001b[1;33m,\u001b[0m \u001b[0msize\u001b[0m\u001b[1;33m=\u001b[0m\u001b[0msize\u001b[0m\u001b[1;33m,\u001b[0m \u001b[0minterpolation\u001b[0m\u001b[1;33m=\u001b[0m\u001b[0minterpolation\u001b[0m\u001b[1;33m.\u001b[0m\u001b[0mvalue\u001b[0m\u001b[1;33m,\u001b[0m \u001b[0mmax_size\u001b[0m\u001b[1;33m=\u001b[0m\u001b[0mmax_size\u001b[0m\u001b[1;33m,\u001b[0m \u001b[0mantialias\u001b[0m\u001b[1;33m=\u001b[0m\u001b[0mantialias\u001b[0m\u001b[1;33m)\u001b[0m\u001b[1;33m\u001b[0m\u001b[1;33m\u001b[0m\u001b[0m\n\u001b[0m\u001b[0;32m    422\u001b[0m \u001b[1;33m\u001b[0m\u001b[0m\n\u001b[0;32m    423\u001b[0m \u001b[1;33m\u001b[0m\u001b[0m\n",
      "\u001b[1;32m~\\AppData\\Local\\Programs\\Python\\Python39\\lib\\site-packages\\torchvision\\transforms\\functional_tensor.py\u001b[0m in \u001b[0;36mresize\u001b[1;34m(img, size, interpolation, max_size, antialias)\u001b[0m\n\u001b[0;32m    556\u001b[0m             \u001b[0mimg\u001b[0m \u001b[1;33m=\u001b[0m \u001b[0mtorch\u001b[0m\u001b[1;33m.\u001b[0m\u001b[0mops\u001b[0m\u001b[1;33m.\u001b[0m\u001b[0mtorchvision\u001b[0m\u001b[1;33m.\u001b[0m\u001b[0m_interpolate_bicubic2d_aa\u001b[0m\u001b[1;33m(\u001b[0m\u001b[0mimg\u001b[0m\u001b[1;33m,\u001b[0m \u001b[1;33m[\u001b[0m\u001b[0mnew_h\u001b[0m\u001b[1;33m,\u001b[0m \u001b[0mnew_w\u001b[0m\u001b[1;33m]\u001b[0m\u001b[1;33m,\u001b[0m \u001b[0malign_corners\u001b[0m\u001b[1;33m=\u001b[0m\u001b[1;32mFalse\u001b[0m\u001b[1;33m)\u001b[0m\u001b[1;33m\u001b[0m\u001b[1;33m\u001b[0m\u001b[0m\n\u001b[0;32m    557\u001b[0m     \u001b[1;32melse\u001b[0m\u001b[1;33m:\u001b[0m\u001b[1;33m\u001b[0m\u001b[1;33m\u001b[0m\u001b[0m\n\u001b[1;32m--> 558\u001b[1;33m         \u001b[0mimg\u001b[0m \u001b[1;33m=\u001b[0m \u001b[0minterpolate\u001b[0m\u001b[1;33m(\u001b[0m\u001b[0mimg\u001b[0m\u001b[1;33m,\u001b[0m \u001b[0msize\u001b[0m\u001b[1;33m=\u001b[0m\u001b[1;33m[\u001b[0m\u001b[0mnew_h\u001b[0m\u001b[1;33m,\u001b[0m \u001b[0mnew_w\u001b[0m\u001b[1;33m]\u001b[0m\u001b[1;33m,\u001b[0m \u001b[0mmode\u001b[0m\u001b[1;33m=\u001b[0m\u001b[0minterpolation\u001b[0m\u001b[1;33m,\u001b[0m \u001b[0malign_corners\u001b[0m\u001b[1;33m=\u001b[0m\u001b[0malign_corners\u001b[0m\u001b[1;33m)\u001b[0m\u001b[1;33m\u001b[0m\u001b[1;33m\u001b[0m\u001b[0m\n\u001b[0m\u001b[0;32m    559\u001b[0m \u001b[1;33m\u001b[0m\u001b[0m\n\u001b[0;32m    560\u001b[0m     \u001b[1;32mif\u001b[0m \u001b[0minterpolation\u001b[0m \u001b[1;33m==\u001b[0m \u001b[1;34m\"bicubic\"\u001b[0m \u001b[1;32mand\u001b[0m \u001b[0mout_dtype\u001b[0m \u001b[1;33m==\u001b[0m \u001b[0mtorch\u001b[0m\u001b[1;33m.\u001b[0m\u001b[0muint8\u001b[0m\u001b[1;33m:\u001b[0m\u001b[1;33m\u001b[0m\u001b[1;33m\u001b[0m\u001b[0m\n",
      "\u001b[1;32m~\\AppData\\Local\\Programs\\Python\\Python39\\lib\\site-packages\\torch\\nn\\functional.py\u001b[0m in \u001b[0;36minterpolate\u001b[1;34m(input, size, scale_factor, mode, align_corners, recompute_scale_factor)\u001b[0m\n\u001b[0;32m   3729\u001b[0m     \u001b[1;32mif\u001b[0m \u001b[0minput\u001b[0m\u001b[1;33m.\u001b[0m\u001b[0mdim\u001b[0m\u001b[1;33m(\u001b[0m\u001b[1;33m)\u001b[0m \u001b[1;33m==\u001b[0m \u001b[1;36m4\u001b[0m \u001b[1;32mand\u001b[0m \u001b[0mmode\u001b[0m \u001b[1;33m==\u001b[0m \u001b[1;34m\"bilinear\"\u001b[0m\u001b[1;33m:\u001b[0m\u001b[1;33m\u001b[0m\u001b[1;33m\u001b[0m\u001b[0m\n\u001b[0;32m   3730\u001b[0m         \u001b[1;32massert\u001b[0m \u001b[0malign_corners\u001b[0m \u001b[1;32mis\u001b[0m \u001b[1;32mnot\u001b[0m \u001b[1;32mNone\u001b[0m\u001b[1;33m\u001b[0m\u001b[1;33m\u001b[0m\u001b[0m\n\u001b[1;32m-> 3731\u001b[1;33m         \u001b[1;32mreturn\u001b[0m \u001b[0mtorch\u001b[0m\u001b[1;33m.\u001b[0m\u001b[0m_C\u001b[0m\u001b[1;33m.\u001b[0m\u001b[0m_nn\u001b[0m\u001b[1;33m.\u001b[0m\u001b[0mupsample_bilinear2d\u001b[0m\u001b[1;33m(\u001b[0m\u001b[0minput\u001b[0m\u001b[1;33m,\u001b[0m \u001b[0moutput_size\u001b[0m\u001b[1;33m,\u001b[0m \u001b[0malign_corners\u001b[0m\u001b[1;33m,\u001b[0m \u001b[0mscale_factors\u001b[0m\u001b[1;33m)\u001b[0m\u001b[1;33m\u001b[0m\u001b[1;33m\u001b[0m\u001b[0m\n\u001b[0m\u001b[0;32m   3732\u001b[0m     \u001b[1;32mif\u001b[0m \u001b[0minput\u001b[0m\u001b[1;33m.\u001b[0m\u001b[0mdim\u001b[0m\u001b[1;33m(\u001b[0m\u001b[1;33m)\u001b[0m \u001b[1;33m==\u001b[0m \u001b[1;36m5\u001b[0m \u001b[1;32mand\u001b[0m \u001b[0mmode\u001b[0m \u001b[1;33m==\u001b[0m \u001b[1;34m\"trilinear\"\u001b[0m\u001b[1;33m:\u001b[0m\u001b[1;33m\u001b[0m\u001b[1;33m\u001b[0m\u001b[0m\n\u001b[0;32m   3733\u001b[0m         \u001b[1;32massert\u001b[0m \u001b[0malign_corners\u001b[0m \u001b[1;32mis\u001b[0m \u001b[1;32mnot\u001b[0m \u001b[1;32mNone\u001b[0m\u001b[1;33m\u001b[0m\u001b[1;33m\u001b[0m\u001b[0m\n",
      "\u001b[1;31mRuntimeError\u001b[0m: Input and output sizes should be greater than 0, but got input (H: 0, W: 18) output (H: 64, W: 64)"
     ]
    }
   ],
   "source": [
    "show_random_results(modelRSN50, 5)"
   ]
  },
  {
   "cell_type": "code",
   "execution_count": null,
   "metadata": {},
   "outputs": [],
   "source": []
  },
  {
   "cell_type": "code",
   "execution_count": null,
   "metadata": {},
   "outputs": [],
   "source": []
  }
 ],
 "metadata": {
  "interpreter": {
   "hash": "916dbcbb3f70747c44a77c7bcd40155683ae19c65e1c03b4aa3499c5328201f1"
  },
  "kernelspec": {
   "display_name": "Python 3.8.10 64-bit",
   "language": "python",
   "name": "python3"
  },
  "language_info": {
   "codemirror_mode": {
    "name": "ipython",
    "version": 3
   },
   "file_extension": ".py",
   "mimetype": "text/x-python",
   "name": "python",
   "nbconvert_exporter": "python",
   "pygments_lexer": "ipython3",
   "version": "3.9.6"
  },
  "orig_nbformat": 4
 },
 "nbformat": 4,
 "nbformat_minor": 2
}
